{
 "cells": [
  {
   "cell_type": "code",
   "execution_count": 1,
   "id": "f574a196",
   "metadata": {},
   "outputs": [],
   "source": [
    "import pandas as pd\n",
    "from sklearn.preprocessing import LabelEncoder\n",
    "from sklearn.model_selection import train_test_split\n",
    "from sklearn.naive_bayes import GaussianNB\n",
    "from sklearn.metrics import accuracy_score, precision_score, recall_score, f1_score\n"
   ]
  },
  {
   "cell_type": "code",
   "execution_count": 2,
   "id": "9afe66a6",
   "metadata": {},
   "outputs": [],
   "source": [
    "df = pd.read_csv('csgo_steam_reviews.csv')"
   ]
  },
  {
   "cell_type": "code",
   "execution_count": 3,
   "id": "50344c53",
   "metadata": {},
   "outputs": [
    {
     "data": {
      "text/html": [
       "<div>\n",
       "<style scoped>\n",
       "    .dataframe tbody tr th:only-of-type {\n",
       "        vertical-align: middle;\n",
       "    }\n",
       "\n",
       "    .dataframe tbody tr th {\n",
       "        vertical-align: top;\n",
       "    }\n",
       "\n",
       "    .dataframe thead th {\n",
       "        text-align: right;\n",
       "    }\n",
       "</style>\n",
       "<table border=\"1\" class=\"dataframe\">\n",
       "  <thead>\n",
       "    <tr style=\"text-align: right;\">\n",
       "      <th></th>\n",
       "      <th>id</th>\n",
       "      <th>language</th>\n",
       "      <th>review</th>\n",
       "      <th>created</th>\n",
       "      <th>voted_up</th>\n",
       "      <th>votes_up</th>\n",
       "      <th>comment_count</th>\n",
       "      <th>steam_purchase</th>\n",
       "      <th>recieved_for_free</th>\n",
       "      <th>written_during_early_access</th>\n",
       "      <th>author.num_games_owned</th>\n",
       "      <th>author_num_reviews</th>\n",
       "      <th>author_playtime_forever</th>\n",
       "      <th>author_playtime_last_two_weeks</th>\n",
       "      <th>author_playtime_at_review</th>\n",
       "      <th>author_last_played</th>\n",
       "    </tr>\n",
       "  </thead>\n",
       "  <tbody>\n",
       "    <tr>\n",
       "      <th>0</th>\n",
       "      <td>133848242</td>\n",
       "      <td>english</td>\n",
       "      <td>Pretty good game all around.\\nGreat game! I wo...</td>\n",
       "      <td>2023-03-01 09:17:12</td>\n",
       "      <td>True</td>\n",
       "      <td>0</td>\n",
       "      <td>0</td>\n",
       "      <td>True</td>\n",
       "      <td>True</td>\n",
       "      <td>False</td>\n",
       "      <td>8</td>\n",
       "      <td>1</td>\n",
       "      <td>44277</td>\n",
       "      <td>1075</td>\n",
       "      <td>44277</td>\n",
       "      <td>2023-03-01 09:04:32</td>\n",
       "    </tr>\n",
       "    <tr>\n",
       "      <th>1</th>\n",
       "      <td>133848123</td>\n",
       "      <td>english</td>\n",
       "      <td>haha smiriva me\\n</td>\n",
       "      <td>2023-03-01 09:13:21</td>\n",
       "      <td>True</td>\n",
       "      <td>0</td>\n",
       "      <td>0</td>\n",
       "      <td>False</td>\n",
       "      <td>False</td>\n",
       "      <td>False</td>\n",
       "      <td>1</td>\n",
       "      <td>1</td>\n",
       "      <td>2169</td>\n",
       "      <td>2169</td>\n",
       "      <td>2169</td>\n",
       "      <td>2023-03-01 09:16:29</td>\n",
       "    </tr>\n",
       "    <tr>\n",
       "      <th>2</th>\n",
       "      <td>133848052</td>\n",
       "      <td>english</td>\n",
       "      <td>full of cheaterts roblox has better anti cheat</td>\n",
       "      <td>2023-03-01 09:11:10</td>\n",
       "      <td>False</td>\n",
       "      <td>0</td>\n",
       "      <td>0</td>\n",
       "      <td>True</td>\n",
       "      <td>False</td>\n",
       "      <td>False</td>\n",
       "      <td>18</td>\n",
       "      <td>3</td>\n",
       "      <td>15619</td>\n",
       "      <td>1976</td>\n",
       "      <td>15603</td>\n",
       "      <td>2023-03-01 09:15:00</td>\n",
       "    </tr>\n",
       "    <tr>\n",
       "      <th>3</th>\n",
       "      <td>133847297</td>\n",
       "      <td>english</td>\n",
       "      <td>Good game, kinda racist but good.</td>\n",
       "      <td>2023-03-01 08:45:24</td>\n",
       "      <td>True</td>\n",
       "      <td>0</td>\n",
       "      <td>0</td>\n",
       "      <td>True</td>\n",
       "      <td>False</td>\n",
       "      <td>False</td>\n",
       "      <td>10</td>\n",
       "      <td>1</td>\n",
       "      <td>14826</td>\n",
       "      <td>2452</td>\n",
       "      <td>14826</td>\n",
       "      <td>2023-02-27 21:09:37</td>\n",
       "    </tr>\n",
       "    <tr>\n",
       "      <th>4</th>\n",
       "      <td>133847187</td>\n",
       "      <td>english</td>\n",
       "      <td>mrazq rusnacite ama ovr stava</td>\n",
       "      <td>2023-03-01 08:41:36</td>\n",
       "      <td>True</td>\n",
       "      <td>0</td>\n",
       "      <td>0</td>\n",
       "      <td>True</td>\n",
       "      <td>False</td>\n",
       "      <td>False</td>\n",
       "      <td>10</td>\n",
       "      <td>1</td>\n",
       "      <td>5045</td>\n",
       "      <td>400</td>\n",
       "      <td>4984</td>\n",
       "      <td>2023-03-01 09:30:07</td>\n",
       "    </tr>\n",
       "    <tr>\n",
       "      <th>...</th>\n",
       "      <td>...</td>\n",
       "      <td>...</td>\n",
       "      <td>...</td>\n",
       "      <td>...</td>\n",
       "      <td>...</td>\n",
       "      <td>...</td>\n",
       "      <td>...</td>\n",
       "      <td>...</td>\n",
       "      <td>...</td>\n",
       "      <td>...</td>\n",
       "      <td>...</td>\n",
       "      <td>...</td>\n",
       "      <td>...</td>\n",
       "      <td>...</td>\n",
       "      <td>...</td>\n",
       "      <td>...</td>\n",
       "    </tr>\n",
       "    <tr>\n",
       "      <th>15635</th>\n",
       "      <td>131858883</td>\n",
       "      <td>english</td>\n",
       "      <td>it's ok</td>\n",
       "      <td>2023-01-30 09:57:25</td>\n",
       "      <td>True</td>\n",
       "      <td>0</td>\n",
       "      <td>0</td>\n",
       "      <td>False</td>\n",
       "      <td>False</td>\n",
       "      <td>False</td>\n",
       "      <td>97</td>\n",
       "      <td>29</td>\n",
       "      <td>15749</td>\n",
       "      <td>0</td>\n",
       "      <td>15749</td>\n",
       "      <td>2022-12-05 19:17:18</td>\n",
       "    </tr>\n",
       "    <tr>\n",
       "      <th>15636</th>\n",
       "      <td>131858648</td>\n",
       "      <td>english</td>\n",
       "      <td>best game in the world &lt;3</td>\n",
       "      <td>2023-01-30 09:51:16</td>\n",
       "      <td>True</td>\n",
       "      <td>0</td>\n",
       "      <td>0</td>\n",
       "      <td>False</td>\n",
       "      <td>False</td>\n",
       "      <td>False</td>\n",
       "      <td>66</td>\n",
       "      <td>2</td>\n",
       "      <td>33715</td>\n",
       "      <td>2023</td>\n",
       "      <td>29756</td>\n",
       "      <td>2023-02-27 20:37:45</td>\n",
       "    </tr>\n",
       "    <tr>\n",
       "      <th>15637</th>\n",
       "      <td>131858525</td>\n",
       "      <td>english</td>\n",
       "      <td>Yes.</td>\n",
       "      <td>2023-01-30 09:47:53</td>\n",
       "      <td>True</td>\n",
       "      <td>0</td>\n",
       "      <td>0</td>\n",
       "      <td>False</td>\n",
       "      <td>False</td>\n",
       "      <td>False</td>\n",
       "      <td>1</td>\n",
       "      <td>2</td>\n",
       "      <td>24054</td>\n",
       "      <td>325</td>\n",
       "      <td>23256</td>\n",
       "      <td>2023-02-27 21:32:04</td>\n",
       "    </tr>\n",
       "    <tr>\n",
       "      <th>15638</th>\n",
       "      <td>131858289</td>\n",
       "      <td>english</td>\n",
       "      <td>click head nothing happen</td>\n",
       "      <td>2023-01-30 09:41:58</td>\n",
       "      <td>False</td>\n",
       "      <td>0</td>\n",
       "      <td>0</td>\n",
       "      <td>True</td>\n",
       "      <td>False</td>\n",
       "      <td>False</td>\n",
       "      <td>9</td>\n",
       "      <td>1</td>\n",
       "      <td>9097</td>\n",
       "      <td>250</td>\n",
       "      <td>8242</td>\n",
       "      <td>2023-02-28 16:06:13</td>\n",
       "    </tr>\n",
       "    <tr>\n",
       "      <th>15639</th>\n",
       "      <td>131858148</td>\n",
       "      <td>english</td>\n",
       "      <td>good</td>\n",
       "      <td>2023-01-30 09:38:35</td>\n",
       "      <td>True</td>\n",
       "      <td>0</td>\n",
       "      <td>0</td>\n",
       "      <td>True</td>\n",
       "      <td>False</td>\n",
       "      <td>False</td>\n",
       "      <td>5</td>\n",
       "      <td>2</td>\n",
       "      <td>63228</td>\n",
       "      <td>10</td>\n",
       "      <td>62434</td>\n",
       "      <td>2023-02-19 18:36:17</td>\n",
       "    </tr>\n",
       "  </tbody>\n",
       "</table>\n",
       "<p>15640 rows × 16 columns</p>\n",
       "</div>"
      ],
      "text/plain": [
       "              id language                                             review  \\\n",
       "0      133848242  english  Pretty good game all around.\\nGreat game! I wo...   \n",
       "1      133848123  english                                  haha smiriva me\\n   \n",
       "2      133848052  english     full of cheaterts roblox has better anti cheat   \n",
       "3      133847297  english                  Good game, kinda racist but good.   \n",
       "4      133847187  english                      mrazq rusnacite ama ovr stava   \n",
       "...          ...      ...                                                ...   \n",
       "15635  131858883  english                                            it's ok   \n",
       "15636  131858648  english                          best game in the world <3   \n",
       "15637  131858525  english                                               Yes.   \n",
       "15638  131858289  english                          click head nothing happen   \n",
       "15639  131858148  english                                               good   \n",
       "\n",
       "                   created  voted_up  votes_up  comment_count  steam_purchase  \\\n",
       "0      2023-03-01 09:17:12      True         0              0            True   \n",
       "1      2023-03-01 09:13:21      True         0              0           False   \n",
       "2      2023-03-01 09:11:10     False         0              0            True   \n",
       "3      2023-03-01 08:45:24      True         0              0            True   \n",
       "4      2023-03-01 08:41:36      True         0              0            True   \n",
       "...                    ...       ...       ...            ...             ...   \n",
       "15635  2023-01-30 09:57:25      True         0              0           False   \n",
       "15636  2023-01-30 09:51:16      True         0              0           False   \n",
       "15637  2023-01-30 09:47:53      True         0              0           False   \n",
       "15638  2023-01-30 09:41:58     False         0              0            True   \n",
       "15639  2023-01-30 09:38:35      True         0              0            True   \n",
       "\n",
       "       recieved_for_free  written_during_early_access  author.num_games_owned  \\\n",
       "0                   True                        False                       8   \n",
       "1                  False                        False                       1   \n",
       "2                  False                        False                      18   \n",
       "3                  False                        False                      10   \n",
       "4                  False                        False                      10   \n",
       "...                  ...                          ...                     ...   \n",
       "15635              False                        False                      97   \n",
       "15636              False                        False                      66   \n",
       "15637              False                        False                       1   \n",
       "15638              False                        False                       9   \n",
       "15639              False                        False                       5   \n",
       "\n",
       "       author_num_reviews  author_playtime_forever  \\\n",
       "0                       1                    44277   \n",
       "1                       1                     2169   \n",
       "2                       3                    15619   \n",
       "3                       1                    14826   \n",
       "4                       1                     5045   \n",
       "...                   ...                      ...   \n",
       "15635                  29                    15749   \n",
       "15636                   2                    33715   \n",
       "15637                   2                    24054   \n",
       "15638                   1                     9097   \n",
       "15639                   2                    63228   \n",
       "\n",
       "       author_playtime_last_two_weeks  author_playtime_at_review  \\\n",
       "0                                1075                      44277   \n",
       "1                                2169                       2169   \n",
       "2                                1976                      15603   \n",
       "3                                2452                      14826   \n",
       "4                                 400                       4984   \n",
       "...                               ...                        ...   \n",
       "15635                               0                      15749   \n",
       "15636                            2023                      29756   \n",
       "15637                             325                      23256   \n",
       "15638                             250                       8242   \n",
       "15639                              10                      62434   \n",
       "\n",
       "        author_last_played  \n",
       "0      2023-03-01 09:04:32  \n",
       "1      2023-03-01 09:16:29  \n",
       "2      2023-03-01 09:15:00  \n",
       "3      2023-02-27 21:09:37  \n",
       "4      2023-03-01 09:30:07  \n",
       "...                    ...  \n",
       "15635  2022-12-05 19:17:18  \n",
       "15636  2023-02-27 20:37:45  \n",
       "15637  2023-02-27 21:32:04  \n",
       "15638  2023-02-28 16:06:13  \n",
       "15639  2023-02-19 18:36:17  \n",
       "\n",
       "[15640 rows x 16 columns]"
      ]
     },
     "execution_count": 3,
     "metadata": {},
     "output_type": "execute_result"
    }
   ],
   "source": [
    "df"
   ]
  },
  {
   "cell_type": "code",
   "execution_count": 4,
   "id": "61601ab7",
   "metadata": {},
   "outputs": [],
   "source": [
    "X = df.iloc[:, [7,8]].values\n",
    "y = df.iloc[:, 9].values"
   ]
  },
  {
   "cell_type": "code",
   "execution_count": 6,
   "id": "7b6c5772",
   "metadata": {},
   "outputs": [
    {
     "data": {
      "text/plain": [
       "array([[ True,  True],\n",
       "       [False, False],\n",
       "       [ True, False],\n",
       "       ...,\n",
       "       [False, False],\n",
       "       [ True, False],\n",
       "       [ True, False]])"
      ]
     },
     "execution_count": 6,
     "metadata": {},
     "output_type": "execute_result"
    }
   ],
   "source": [
    "X"
   ]
  },
  {
   "cell_type": "code",
   "execution_count": 7,
   "id": "47e8c3b4",
   "metadata": {},
   "outputs": [
    {
     "data": {
      "text/plain": [
       "array([False, False, False, ..., False, False, False])"
      ]
     },
     "execution_count": 7,
     "metadata": {},
     "output_type": "execute_result"
    }
   ],
   "source": [
    "y"
   ]
  },
  {
   "cell_type": "code",
   "execution_count": 8,
   "id": "c21f6943",
   "metadata": {},
   "outputs": [],
   "source": [
    "le = LabelEncoder()\n",
    "y = le.fit_transform(y)"
   ]
  },
  {
   "cell_type": "code",
   "execution_count": 21,
   "id": "52828936",
   "metadata": {},
   "outputs": [
    {
     "data": {
      "text/plain": [
       "array([[ True,  True],\n",
       "       [False, False],\n",
       "       [ True, False],\n",
       "       ...,\n",
       "       [False, False],\n",
       "       [ True, False],\n",
       "       [ True, False]])"
      ]
     },
     "execution_count": 21,
     "metadata": {},
     "output_type": "execute_result"
    }
   ],
   "source": [
    "X[:, 0]= le.fit_transform(X[:, 0])\n",
    "X"
   ]
  },
  {
   "cell_type": "code",
   "execution_count": 22,
   "id": "3e7a6c7e",
   "metadata": {},
   "outputs": [
    {
     "data": {
      "text/plain": [
       "array([[ True,  True],\n",
       "       [False, False],\n",
       "       [ True, False],\n",
       "       ...,\n",
       "       [False, False],\n",
       "       [ True, False],\n",
       "       [ True, False]])"
      ]
     },
     "execution_count": 22,
     "metadata": {},
     "output_type": "execute_result"
    }
   ],
   "source": [
    "X[:, 1]= le.fit_transform(X[:, 1])\n",
    "X"
   ]
  },
  {
   "cell_type": "code",
   "execution_count": 23,
   "id": "b4d239b0",
   "metadata": {},
   "outputs": [],
   "source": [
    "X_train, X_test, y_train, y_test = train_test_split(X, y, test_size=0.2, random_state=0)"
   ]
  },
  {
   "cell_type": "code",
   "execution_count": 14,
   "id": "45c9980f",
   "metadata": {},
   "outputs": [
    {
     "data": {
      "text/html": [
       "<style>#sk-container-id-2 {color: black;background-color: white;}#sk-container-id-2 pre{padding: 0;}#sk-container-id-2 div.sk-toggleable {background-color: white;}#sk-container-id-2 label.sk-toggleable__label {cursor: pointer;display: block;width: 100%;margin-bottom: 0;padding: 0.3em;box-sizing: border-box;text-align: center;}#sk-container-id-2 label.sk-toggleable__label-arrow:before {content: \"▸\";float: left;margin-right: 0.25em;color: #696969;}#sk-container-id-2 label.sk-toggleable__label-arrow:hover:before {color: black;}#sk-container-id-2 div.sk-estimator:hover label.sk-toggleable__label-arrow:before {color: black;}#sk-container-id-2 div.sk-toggleable__content {max-height: 0;max-width: 0;overflow: hidden;text-align: left;background-color: #f0f8ff;}#sk-container-id-2 div.sk-toggleable__content pre {margin: 0.2em;color: black;border-radius: 0.25em;background-color: #f0f8ff;}#sk-container-id-2 input.sk-toggleable__control:checked~div.sk-toggleable__content {max-height: 200px;max-width: 100%;overflow: auto;}#sk-container-id-2 input.sk-toggleable__control:checked~label.sk-toggleable__label-arrow:before {content: \"▾\";}#sk-container-id-2 div.sk-estimator input.sk-toggleable__control:checked~label.sk-toggleable__label {background-color: #d4ebff;}#sk-container-id-2 div.sk-label input.sk-toggleable__control:checked~label.sk-toggleable__label {background-color: #d4ebff;}#sk-container-id-2 input.sk-hidden--visually {border: 0;clip: rect(1px 1px 1px 1px);clip: rect(1px, 1px, 1px, 1px);height: 1px;margin: -1px;overflow: hidden;padding: 0;position: absolute;width: 1px;}#sk-container-id-2 div.sk-estimator {font-family: monospace;background-color: #f0f8ff;border: 1px dotted black;border-radius: 0.25em;box-sizing: border-box;margin-bottom: 0.5em;}#sk-container-id-2 div.sk-estimator:hover {background-color: #d4ebff;}#sk-container-id-2 div.sk-parallel-item::after {content: \"\";width: 100%;border-bottom: 1px solid gray;flex-grow: 1;}#sk-container-id-2 div.sk-label:hover label.sk-toggleable__label {background-color: #d4ebff;}#sk-container-id-2 div.sk-serial::before {content: \"\";position: absolute;border-left: 1px solid gray;box-sizing: border-box;top: 0;bottom: 0;left: 50%;z-index: 0;}#sk-container-id-2 div.sk-serial {display: flex;flex-direction: column;align-items: center;background-color: white;padding-right: 0.2em;padding-left: 0.2em;position: relative;}#sk-container-id-2 div.sk-item {position: relative;z-index: 1;}#sk-container-id-2 div.sk-parallel {display: flex;align-items: stretch;justify-content: center;background-color: white;position: relative;}#sk-container-id-2 div.sk-item::before, #sk-container-id-2 div.sk-parallel-item::before {content: \"\";position: absolute;border-left: 1px solid gray;box-sizing: border-box;top: 0;bottom: 0;left: 50%;z-index: -1;}#sk-container-id-2 div.sk-parallel-item {display: flex;flex-direction: column;z-index: 1;position: relative;background-color: white;}#sk-container-id-2 div.sk-parallel-item:first-child::after {align-self: flex-end;width: 50%;}#sk-container-id-2 div.sk-parallel-item:last-child::after {align-self: flex-start;width: 50%;}#sk-container-id-2 div.sk-parallel-item:only-child::after {width: 0;}#sk-container-id-2 div.sk-dashed-wrapped {border: 1px dashed gray;margin: 0 0.4em 0.5em 0.4em;box-sizing: border-box;padding-bottom: 0.4em;background-color: white;}#sk-container-id-2 div.sk-label label {font-family: monospace;font-weight: bold;display: inline-block;line-height: 1.2em;}#sk-container-id-2 div.sk-label-container {text-align: center;}#sk-container-id-2 div.sk-container {/* jupyter's `normalize.less` sets `[hidden] { display: none; }` but bootstrap.min.css set `[hidden] { display: none !important; }` so we also need the `!important` here to be able to override the default hidden behavior on the sphinx rendered scikit-learn.org. See: https://github.com/scikit-learn/scikit-learn/issues/21755 */display: inline-block !important;position: relative;}#sk-container-id-2 div.sk-text-repr-fallback {display: none;}</style><div id=\"sk-container-id-2\" class=\"sk-top-container\"><div class=\"sk-text-repr-fallback\"><pre>GaussianNB()</pre><b>In a Jupyter environment, please rerun this cell to show the HTML representation or trust the notebook. <br />On GitHub, the HTML representation is unable to render, please try loading this page with nbviewer.org.</b></div><div class=\"sk-container\" hidden><div class=\"sk-item\"><div class=\"sk-estimator sk-toggleable\"><input class=\"sk-toggleable__control sk-hidden--visually\" id=\"sk-estimator-id-2\" type=\"checkbox\" checked><label for=\"sk-estimator-id-2\" class=\"sk-toggleable__label sk-toggleable__label-arrow\">GaussianNB</label><div class=\"sk-toggleable__content\"><pre>GaussianNB()</pre></div></div></div></div></div>"
      ],
      "text/plain": [
       "GaussianNB()"
      ]
     },
     "execution_count": 14,
     "metadata": {},
     "output_type": "execute_result"
    }
   ],
   "source": [
    "gnb = GaussianNB()\n",
    "gnb.fit(X_train, y_train)"
   ]
  },
  {
   "cell_type": "code",
   "execution_count": 15,
   "id": "2392d2b8",
   "metadata": {},
   "outputs": [],
   "source": [
    "y_pred = gnb.predict(X_test)"
   ]
  },
  {
   "cell_type": "code",
   "execution_count": 16,
   "id": "5cbe87cd",
   "metadata": {},
   "outputs": [
    {
     "name": "stdout",
     "output_type": "stream",
     "text": [
      "Accuracy: 1.0\n",
      "Precision: 1.0\n",
      "Recall: 1.0\n",
      "F1 Score: 1.0\n"
     ]
    }
   ],
   "source": [
    "print('Accuracy:', accuracy_score(y_test, y_pred))\n",
    "print('Precision:', precision_score(y_test, y_pred, average='weighted'))\n",
    "print('Recall:', recall_score(y_test, y_pred, average='weighted'))\n",
    "print('F1 Score:', f1_score(y_test, y_pred, average='weighted'))"
   ]
  }
 ],
 "metadata": {
  "kernelspec": {
   "display_name": "Python 3 (ipykernel)",
   "language": "python",
   "name": "python3"
  },
  "language_info": {
   "codemirror_mode": {
    "name": "ipython",
    "version": 3
   },
   "file_extension": ".py",
   "mimetype": "text/x-python",
   "name": "python",
   "nbconvert_exporter": "python",
   "pygments_lexer": "ipython3",
   "version": "3.9.13"
  }
 },
 "nbformat": 4,
 "nbformat_minor": 5
}
